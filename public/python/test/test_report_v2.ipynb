{
 "cells": [
  {
   "cell_type": "code",
   "execution_count": 1,
   "metadata": {},
   "outputs": [],
   "source": [
    "import json\n",
    "from collections import Counter\n",
    "import pandas as pd\n",
    "import joblib\n"
   ]
  },
  {
   "cell_type": "code",
   "execution_count": 3,
   "metadata": {},
   "outputs": [],
   "source": [
    "# Langkah 1: Baca Data JSON\n",
    "with open('student_validations.json') as file:\n",
    "    data = json.load(file)\n",
    "    \n",
    "# Ekstrak data yang relevan\n",
    "table_data = data[2]['data']"
   ]
  },
  {
   "cell_type": "code",
   "execution_count": 4,
   "metadata": {},
   "outputs": [],
   "source": [
    "# Langkah 2: Ekstrak Informasi dan Hitung Frekuensi\n",
    "report_counts = []\n",
    "error_counts = []\n",
    "\n",
    "for record in table_data:\n",
    "    testid = int(record['testid'])\n",
    "    status = record['status']\n",
    "    report_lines = record['report'].split('\\n')\n",
    "    \n",
    "    if status == 'FAILED':\n",
    "        for line in report_lines:\n",
    "            if '-> FAILED ->' in line:\n",
    "                report_counts.append((testid, status, line.strip()))\n",
    "    elif status == 'ERROR':\n",
    "        for line in report_lines:\n",
    "            if line.strip():\n",
    "                error_counts.append((testid, status, line.strip()))\n",
    "\n",
    "# Hitung frekuensi kemunculan setiap jenis laporan kesalahan\n",
    "report_counter = Counter(report_counts)\n",
    "error_counter = Counter(error_counts)\n",
    "\n",
    "# Konversi hasil ke dalam DataFrame\n",
    "report_df = pd.DataFrame(\n",
    "    [(testid, status, report, count) for (testid, status, report), count in report_counter.items()],\n",
    "    columns=['testid', 'status', 'report', 'count']\n",
    ")\n",
    "\n",
    "error_df = pd.DataFrame(\n",
    "    [(testid, status, report, count) for (testid, status, report), count in error_counter.items()],\n",
    "    columns=['testid', 'status', 'report', 'count']\n",
    ")\n",
    "\n",
    "# Gabungkan DataFrame untuk FAILED dan ERROR\n",
    "combined_df = pd.concat([report_df, error_df], ignore_index=True)"
   ]
  },
  {
   "cell_type": "code",
   "execution_count": 5,
   "metadata": {},
   "outputs": [
    {
     "name": "stdout",
     "output_type": "stream",
     "text": [
      "Proses selesai, file 'combined_report_counts.csv' dan 'combined_report_model.pkl' telah dibuat.\n"
     ]
    }
   ],
   "source": [
    "# Langkah 3: Simpan Hasil\n",
    "# Simpan DataFrame ke CSV (atau format lain jika diperlukan)\n",
    "combined_df.to_csv('combined_report_counts.csv', index=False)\n",
    "\n",
    "# Simpan model yang dilatih (misal: DecisionTreeClassifier)\n",
    "# Latih ulang model jika diperlukan\n",
    "X = combined_df[['testid', 'count']]\n",
    "y = combined_df['report']\n",
    "\n",
    "from sklearn.tree import DecisionTreeClassifier\n",
    "model = DecisionTreeClassifier()\n",
    "model.fit(X, y)\n",
    "\n",
    "# Simpan model ke file pkl\n",
    "joblib.dump(model, 'combined_report_model.pkl')\n",
    "\n",
    "print(\"Proses selesai, file 'combined_report_counts.csv' dan 'combined_report_model.pkl' telah dibuat.\")"
   ]
  }
 ],
 "metadata": {
  "kernelspec": {
   "display_name": "test_report_env",
   "language": "python",
   "name": "python3"
  },
  "language_info": {
   "codemirror_mode": {
    "name": "ipython",
    "version": 3
   },
   "file_extension": ".py",
   "mimetype": "text/x-python",
   "name": "python",
   "nbconvert_exporter": "python",
   "pygments_lexer": "ipython3",
   "version": "3.8.19"
  }
 },
 "nbformat": 4,
 "nbformat_minor": 2
}
