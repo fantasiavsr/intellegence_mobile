{
 "cells": [
  {
   "cell_type": "code",
   "execution_count": 6,
   "metadata": {},
   "outputs": [
    {
     "name": "stderr",
     "output_type": "stream",
     "text": [
      "d:\\anaconda3\\envs\\test_report_env\\lib\\site-packages\\sklearn\\base.py:347: InconsistentVersionWarning: Trying to unpickle estimator DecisionTreeClassifier from version 1.4.2 when using version 1.3.0. This might lead to breaking code or invalid results. Use at your own risk. For more info please refer to:\n",
      "https://scikit-learn.org/stable/model_persistence.html#security-maintainability-limitations\n",
      "  warnings.warn(\n"
     ]
    },
    {
     "name": "stdout",
     "output_type": "stream",
     "text": [
      "Hasil telah disimpan dalam file 'hasil_report2.json'.\n"
     ]
    }
   ],
   "source": [
    "import json\n",
    "import requests\n",
    "import joblib\n",
    "\n",
    "# Membaca file JSON\n",
    "with open('student_validations.json') as file:\n",
    "    data = json.load(file)\n",
    "\n",
    "# Mengambil data dari JSON\n",
    "table_data = data[2]['data']\n",
    "\n",
    "# Memuat model\n",
    "model = joblib.load('test_report_model2.pkl')\n",
    "\n",
    "# Array untuk menyimpan hasil\n",
    "results = []\n",
    "\n",
    "# Mengirim setiap data testid dan report ke API Laravel\n",
    "for record in table_data:\n",
    "    if record['status'] == 'FAILED' or record['report'] == 'ERROR':\n",
    "        testid = int(record['testid'])\n",
    "        report = model.predict([[testid]])[0]\n",
    "\n",
    "        # Menyimpan hasil ke dalam array\n",
    "        results.append({\n",
    "            'testid': testid,\n",
    "            'report': report\n",
    "        })\n",
    "\n",
    "# Menyimpan hasil ke dalam file JSON\n",
    "with open('hasil_report2.json', 'w') as outfile:\n",
    "    json.dump(results, outfile)\n",
    "\n",
    "print(\"Hasil telah disimpan dalam file 'hasil_report2.json'.\")\n"
   ]
  }
 ],
 "metadata": {
  "kernelspec": {
   "display_name": "test_report_env",
   "language": "python",
   "name": "python3"
  },
  "language_info": {
   "codemirror_mode": {
    "name": "ipython",
    "version": 3
   },
   "file_extension": ".py",
   "mimetype": "text/x-python",
   "name": "python",
   "nbconvert_exporter": "python",
   "pygments_lexer": "ipython3",
   "version": "3.8.19"
  }
 },
 "nbformat": 4,
 "nbformat_minor": 2
}
