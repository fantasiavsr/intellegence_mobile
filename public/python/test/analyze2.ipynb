{
 "cells": [
  {
   "cell_type": "code",
   "execution_count": 1,
   "metadata": {},
   "outputs": [
    {
     "name": "stdout",
     "output_type": "stream",
     "text": [
      "Hasil telah disimpan dalam file 'hasil_report3.json'.\n"
     ]
    }
   ],
   "source": [
    "import json\n",
    "import pandas as pd\n",
    "from collections import Counter\n",
    "\n",
    "# Membaca file JSON\n",
    "with open('student_validations.json') as file:\n",
    "    data = json.load(file)\n",
    "    \n",
    "# Mengambil data dari JSON\n",
    "table_data = data[2]['data']\n",
    "\n",
    "# Mengubah data menjadi DataFrame pandas\n",
    "df = pd.DataFrame(table_data)\n",
    "\n",
    "# Menyaring data dengan status 'FAILED' atau 'ERROR'\n",
    "failed_data = df[(df['status'] == 'FAILED') | (df['status'] == 'ERROR')]\n",
    "\n",
    "# Menghitung report yang paling sering muncul untuk setiap testid\n",
    "results = {}\n",
    "for index, row in failed_data.iterrows():\n",
    "    testid = row['testid']\n",
    "    report = row['report']\n",
    "    if testid not in results:\n",
    "        results[testid] = Counter()\n",
    "    results[testid][report] += 1\n",
    "\n",
    "# Memilih report yang paling sering muncul untuk setiap testid\n",
    "final_results = []\n",
    "for testid, counter in results.items():\n",
    "    most_common_report = counter.most_common(1)[0][0]\n",
    "    final_results.append({\n",
    "        'testid': testid,\n",
    "        'report': most_common_report\n",
    "    })\n",
    "\n",
    "# Menyimpan hasil ke dalam file JSON\n",
    "with open('hasil_report3.json', 'w') as outfile:\n",
    "    json.dump(final_results, outfile)\n",
    "\n",
    "print(\"Hasil telah disimpan dalam file 'hasil_report3.json'.\")\n"
   ]
  }
 ],
 "metadata": {
  "kernelspec": {
   "display_name": "test_report_env",
   "language": "python",
   "name": "python3"
  },
  "language_info": {
   "codemirror_mode": {
    "name": "ipython",
    "version": 3
   },
   "file_extension": ".py",
   "mimetype": "text/x-python",
   "name": "python",
   "nbconvert_exporter": "python",
   "pygments_lexer": "ipython3",
   "version": "3.8.19"
  }
 },
 "nbformat": 4,
 "nbformat_minor": 2
}
