{
 "cells": [
  {
   "cell_type": "code",
   "execution_count": 1,
   "metadata": {},
   "outputs": [],
   "source": [
    "import joblib\n",
    "\n",
    "# Fungsi untuk memuat model dan melakukan prediksi\n",
    "def predict_report(testid):\n",
    "    # Memuat model\n",
    "    model = joblib.load('test_report_model.pkl')\n",
    "    \n",
    "    # Melakukan prediksi\n",
    "    report = model.predict([[testid]])\n",
    "    \n",
    "    return report[0]\n"
   ]
  },
  {
   "cell_type": "code",
   "execution_count": 2,
   "metadata": {},
   "outputs": [],
   "source": [
    "# Memasukkan testid untuk melakukan prediksi\n",
    "testid_input = int(input(\"Masukkan Test ID: \"))\n",
    "\n",
    "# Mendapatkan prediksi report\n",
    "predicted_report = predict_report(testid_input)\n",
    "\n",
    "print(f\"Prediksi Report untuk Test ID {testid_input}: {predicted_report}\")\n"
   ]
  }
 ],
 "metadata": {
  "kernelspec": {
   "display_name": "test_report_env",
   "language": "python",
   "name": "python3"
  },
  "language_info": {
   "codemirror_mode": {
    "name": "ipython",
    "version": 3
   },
   "file_extension": ".py",
   "mimetype": "text/x-python",
   "name": "python",
   "nbconvert_exporter": "python",
   "pygments_lexer": "ipython3",
   "version": "3.8.19"
  }
 },
 "nbformat": 4,
 "nbformat_minor": 2
}
